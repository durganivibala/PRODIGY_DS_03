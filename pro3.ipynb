{
  "nbformat": 4,
  "nbformat_minor": 0,
  "metadata": {
    "colab": {
      "provenance": []
    },
    "kernelspec": {
      "name": "python3",
      "display_name": "Python 3"
    },
    "language_info": {
      "name": "python"
    }
  },
  "cells": [
    {
      "cell_type": "code",
      "execution_count": 1,
      "metadata": {
        "colab": {
          "base_uri": "https://localhost:8080/"
        },
        "id": "ih285v4_G7IP",
        "outputId": "de7feeb2-0b2d-476f-fcd5-de643d34f2c2"
      },
      "outputs": [
        {
          "output_type": "stream",
          "name": "stdout",
          "text": [
            "   age         job  marital  education default  balance housing loan  contact  \\\n",
            "0   59      admin.  married  secondary      no     2343     yes   no  unknown   \n",
            "1   56      admin.  married  secondary      no       45      no   no  unknown   \n",
            "2   41  technician  married  secondary      no     1270     yes   no  unknown   \n",
            "3   55    services  married  secondary      no     2476     yes   no  unknown   \n",
            "4   54      admin.  married   tertiary      no      184      no   no  unknown   \n",
            "\n",
            "   day month  duration  campaign  pdays  previous poutcome deposit  \n",
            "0    5   may      1042         1     -1         0  unknown     yes  \n",
            "1    5   may      1467         1     -1         0  unknown     yes  \n",
            "2    5   may      1389         1     -1         0  unknown     yes  \n",
            "3    5   may       579         1     -1         0  unknown     yes  \n",
            "4    5   may       673         2     -1         0  unknown     yes  \n",
            "Accuracy: 0.6536279486413855\n",
            "\n",
            "Classification Report:\n",
            "              precision    recall  f1-score   support\n",
            "\n",
            "          no       0.64      0.77      0.70      1742\n",
            "         yes       0.68      0.53      0.59      1607\n",
            "\n",
            "    accuracy                           0.65      3349\n",
            "   macro avg       0.66      0.65      0.65      3349\n",
            "weighted avg       0.66      0.65      0.65      3349\n",
            "\n",
            "\n",
            "Confusion Matrix:\n",
            "[[1344  398]\n",
            " [ 762  845]]\n"
          ]
        }
      ],
      "source": [
        "import pandas as pd\n",
        "from sklearn.model_selection import train_test_split\n",
        "from sklearn.tree import DecisionTreeClassifier, plot_tree\n",
        "from sklearn.metrics import accuracy_score, classification_report, confusion_matrix\n",
        "import matplotlib.pyplot as plt\n",
        "\n",
        "# Load the dataset\n",
        "retail_df = pd.read_csv('bank.csv')\n",
        "\n",
        "# Display the first few rows of the dataset\n",
        "print(retail_df.head())\n",
        "\n",
        "# Create the target variable based on Total Amount\n",
        "#retail_df['Purchase'] = retail_df['Total Amount'] > 0\n",
        "\n",
        "# Prepare the features and target variable\n",
        "X = retail_df[['job', 'age', 'marital', 'loan', 'education', 'poutcome']]\n",
        "y = retail_df['deposit']\n",
        "\n",
        "# Convert categorical variables to dummy/indicator variables\n",
        "X = pd.get_dummies(X)\n",
        "\n",
        "# Split the dataset into training and testing sets\n",
        "X_train, X_test, y_train, y_test = train_test_split(X, y, test_size=0.3, random_state=42)\n",
        "\n",
        "# Initialize the Decision Tree Classifier\n",
        "max_depth = 5\n",
        "dt_classifier = DecisionTreeClassifier(max_depth=max_depth, random_state=42)\n",
        "\n",
        "# Train the classifier\n",
        "dt_classifier.fit(X_train, y_train)\n",
        "\n",
        "# Predict the response for test dataset\n",
        "y_pred = dt_classifier.predict(X_test)\n",
        "\n",
        "# Model evaluation\n",
        "accuracy = accuracy_score(y_test, y_pred)\n",
        "print(\"Accuracy:\", accuracy)\n",
        "\n",
        "# Classification report\n",
        "print(\"\\nClassification Report:\")\n",
        "print(classification_report(y_test, y_pred))\n",
        "\n",
        "# Confusion matrix\n",
        "conf_matrix = confusion_matrix(y_test, y_pred)\n",
        "print(\"\\nConfusion Matrix:\")\n",
        "print(conf_matrix)"
      ]
    },
    {
      "cell_type": "code",
      "source": [
        "from sklearn.tree import export_graphviz\n",
        "import graphviz\n",
        "\n",
        "# Export the decision tree to DOT format\n",
        "dot_data = export_graphviz(dt_classifier, out_file=None,\n",
        "                           feature_names=X.columns,\n",
        "                           class_names=['Not Purchased', 'Purchased'],\n",
        "                           filled=True, rounded=True,\n",
        "                           special_characters=True)\n",
        "\n",
        "# Render the DOT data using Graphviz\n",
        "graph = graphviz.Source(dot_data)\n",
        ""
      ],
      "metadata": {
        "id": "B_pRglEyHGHq"
      },
      "execution_count": 2,
      "outputs": []
    }
  ]
}